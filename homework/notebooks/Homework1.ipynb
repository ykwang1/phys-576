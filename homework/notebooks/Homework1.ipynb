{
 "cells": [
  {
   "cell_type": "code",
   "execution_count": 13,
   "metadata": {},
   "outputs": [],
   "source": [
    "import matplotlib.pyplot as plt\n",
    "import numpy as np\n",
    "from scipy.special import factorial\n",
    "from scipy.stats import poisson, norm"
   ]
  },
  {
   "cell_type": "markdown",
   "metadata": {},
   "source": [
    "# Q1\n",
    "One of the grad students in the Astronomy department mentioned recently that in elementary school, there were 10 sets of twins and 1 set of triplets in her grade of around 100 people! For HW1, I'll look at whether this signal (redefined to be 11 multiple births among 100 households) is significantly greater than the background rate of multiple births per 100 households\n",
    "\n",
    "## a. \n",
    "### Define Poisson distribution and take samples\n",
    "From the 1995 CDC Report of Final Natality Statistics 1995, there were 26.1 multiple births per 1000 in 1995. So for a grade of ~100 households, we might expect the number of multiple births per 100 households to be roughly $\\frac{26.1}{1000}\\times{100} = 2.61$\n",
    "\n",
    "Since multiple births are fairly rare, we will assume that the background distribution is Poisson, with $\\lambda = 2.61$ multiple births per 100 households."
   ]
  },
  {
   "cell_type": "code",
   "execution_count": 165,
   "metadata": {},
   "outputs": [],
   "source": [
    "ev = 2.61 # expected value for poisson distribution\n",
    "n_samples = int(1e6)\n",
    "sample = poisson.rvs(ev, size=n_samples)"
   ]
  },
  {
   "cell_type": "markdown",
   "metadata": {},
   "source": [
    "### Plot background events"
   ]
  },
  {
   "cell_type": "code",
   "execution_count": 166,
   "metadata": {},
   "outputs": [
    {
     "data": {
      "image/png": "[encoded data removed]",
      "text/plain": [
       "<Figure size 432x288 with 1 Axes>"
      ]
     },
     "metadata": {
      "needs_background": "light"
     },
     "output_type": "display_data"
    }
   ],
   "source": [
    "plt.hist(sample, bins = np.arange(0, max(sample)+1))\n",
    "\n",
    "t = np.arange(0, max(sample)+1, 1)\n",
    "d = np.exp(-ev)*np.power(ev, t)/factorial(t)\n",
    "\n",
    "# plt.plot(t, d * n_samples)\n",
    "plt.plot(t, poisson.pmf(t, ev) * n_samples)\n",
    "plt.yscale('log')\n",
    "# plt.axvline(signal, color='k')\n",
    "plt.show()"
   ]
  },
  {
   "cell_type": "markdown",
   "metadata": {},
   "source": [
    "## b.\n",
    "### Define our candidate signal\n",
    "As stated earlier, we found 11 sets of multiple births in a single grade of ~100 households. As such, our \"signal\" is 11. We want to know how plausible it is for this to have occured by chance (i.e. due to the background), assuming all of our assumptions are correct. Thus, \"as signal like\" means 11 multiple births per 100 and \"more signal like\" means more than 11 multiple births per 100."
   ]
  },
  {
   "cell_type": "code",
   "execution_count": 149,
   "metadata": {},
   "outputs": [],
   "source": [
    "signal = 11"
   ]
  },
  {
   "cell_type": "markdown",
   "metadata": {},
   "source": [
    "Converting this to an integral (sum since our distribution is discrete), we have that the probability that our \"signal\" is due to the background is:\n",
    "$$ \\sum^{\\inf}_{k=11} Poisson(k, \\lambda=2.61)$$\n",
    "In reality, we might sum up to k=100, since that's the maximum biologically possible k in our situation with 100 households. This isn't a huge difference since $Poisson(k=100+, \\lambda=2.61)$ is very small"
   ]
  },
  {
   "cell_type": "markdown",
   "metadata": {},
   "source": [
    "# c.\n",
    "### Determine probability for the background creating this event\n",
    "\n",
    "To do this empirically, using our background, we count the number of samples equal to, or exceeding our signal"
   ]
  },
  {
   "cell_type": "code",
   "execution_count": 167,
   "metadata": {},
   "outputs": [
    {
     "data": {
      "text/plain": [
       "7.7e-05"
      ]
     },
     "execution_count": 167,
     "metadata": {},
     "output_type": "execute_result"
    }
   ],
   "source": [
    "p = sum(sample >= signal) / n_samples\n",
    "p"
   ]
  },
  {
   "cell_type": "markdown",
   "metadata": {},
   "source": [
    "We could also do this analytically by taking the sum, which gives 8.96e-5."
   ]
  },
  {
   "cell_type": "markdown",
   "metadata": {},
   "source": [
    "## d. \n",
    "### Determine the 'sigma' of the candidate\n",
    "We then convert this probability to the sigma value of a standard normal distribution"
   ]
  },
  {
   "cell_type": "code",
   "execution_count": 168,
   "metadata": {},
   "outputs": [
    {
     "data": {
      "text/plain": [
       "3.7845289201238668"
      ]
     },
     "execution_count": 168,
     "metadata": {},
     "output_type": "execute_result"
    }
   ],
   "source": [
    "norm.ppf(1 - p)"
   ]
  },
  {
   "cell_type": "markdown",
   "metadata": {},
   "source": [
    "For our \"signal\" of 11 multiple births, our value for sigma is about 3.7. While this might not meet the $5\\sigma$ detection threshold for physics, it is sufficiently high that we might begin to wonder if there are other factors at play to cause such a high number of families with twins to reside in the same school district."
   ]
  },
  {
   "cell_type": "markdown",
   "metadata": {},
   "source": [
    "# Q3"
   ]
  },
  {
   "cell_type": "markdown",
   "metadata": {},
   "source": [
    "## a.\n",
    "If our question is to investigate whether there are external factors causing so many sets of twins/multiple births in the same area, then we might want to look at other grades, or the same grade in nearby schools. This would approximate taking multiple observations of a phenomenon in the lab (although it wouldn't be exactly the same, since there could be other confounding factors for a different grade or a different school). While the grad student with this anecdote doesn't know how many other sets of twins/triplets/etc were in the other grades, lets just say that in the other 4 grades, there were 7, 3, 2, and 5 sets of multiple births per 100. Thus our average signal across all 5 observations is 7."
   ]
  },
  {
   "cell_type": "code",
   "execution_count": 185,
   "metadata": {},
   "outputs": [],
   "source": [
    "avg_signal = 7"
   ]
  },
  {
   "cell_type": "code",
   "execution_count": 177,
   "metadata": {},
   "outputs": [],
   "source": [
    "n = 5 # number of observations to average together\n",
    "n_samples = 10000000 # increased 10x\n",
    "samples = []\n",
    "for ii in range(n):\n",
    "    samples.append(poisson.rvs(ev, size=n_samples))\n",
    "    \n",
    "avgs = sum(samples) / n"
   ]
  },
  {
   "cell_type": "code",
   "execution_count": 186,
   "metadata": {
    "scrolled": true
   },
   "outputs": [
    {
     "data": {
      "image/png": "[encoded data removed]",
      "text/plain": [
       "<Figure size 432x288 with 1 Axes>"
      ]
     },
     "metadata": {
      "needs_background": "light"
     },
     "output_type": "display_data"
    }
   ],
   "source": [
    "plt.hist(avgs, bins=18)\n",
    "# plt.plot(t, norm.pdf(t, ev, ev/np.sqrt(n)) * 300000)\n",
    "plt.axvline(avg_signal, color='k')\n",
    "plt.yscale('log')\n",
    "plt.show()"
   ]
  },
  {
   "cell_type": "markdown",
   "metadata": {},
   "source": [
    "As the number of observations are averaged together, the signal needed for a significant result decreases. Even with averaging 5 observations, and with an average signal now of 7 instead of 11, we see that our \"signal\" is highly significant compared to the background of multiple births. "
   ]
  },
  {
   "cell_type": "code",
   "execution_count": 187,
   "metadata": {},
   "outputs": [],
   "source": [
    "p_avg = sum(avgs >= avg_signal) / n_samples"
   ]
  },
  {
   "cell_type": "code",
   "execution_count": 184,
   "metadata": {},
   "outputs": [
    {
     "data": {
      "text/plain": [
       "5.199337582290661"
      ]
     },
     "execution_count": 184,
     "metadata": {},
     "output_type": "execute_result"
    }
   ],
   "source": [
    "norm.ppf(1 - p_avg)"
   ]
  },
  {
   "cell_type": "markdown",
   "metadata": {},
   "source": [
    "This actually exceeds 5 sigma. So an average of 7 multiple births per 100 in each grade in 5 different grades would meet the phycisist's publication criteria of a 5-sigma detection! Note that as the number of observations averaged increases, so does the significane of any result that's far from the sample, since the noise distribution becomes tighter (and more Gaussian)"
   ]
  },
  {
   "cell_type": "code",
   "execution_count": 188,
   "metadata": {},
   "outputs": [],
   "source": [
    "n = 30 # number of observations to average together\n",
    "n_samples = 1000000\n",
    "samples = []\n",
    "for ii in range(n):\n",
    "    samples.append(poisson.rvs(ev, size=n_samples))\n",
    "    \n",
    "avgs = sum(samples) / n"
   ]
  },
  {
   "cell_type": "code",
   "execution_count": 195,
   "metadata": {
    "scrolled": true
   },
   "outputs": [
    {
     "data": {
      "image/png": "[encoded data removed]",
      "text/plain": [
       "<Figure size 432x288 with 1 Axes>"
      ]
     },
     "metadata": {
      "needs_background": "light"
     },
     "output_type": "display_data"
    }
   ],
   "source": [
    "plt.hist(avgs, bins=24)\n",
    "plt.axvline(4, color='k')\n",
    "plt.yscale('log')\n",
    "plt.show()"
   ]
  },
  {
   "cell_type": "code",
   "execution_count": 190,
   "metadata": {},
   "outputs": [],
   "source": [
    "p_avg2 = sum(avgs >= 4) / n_samples"
   ]
  },
  {
   "cell_type": "markdown",
   "metadata": {},
   "source": [
    "With thirty samples, the background distribution is much tighter, so even an average signal of 4 would be highly significant. Note how the averaged distribution looks very much like a gaussian."
   ]
  },
  {
   "cell_type": "markdown",
   "metadata": {},
   "source": [
    "## b.\n",
    "The number of observations that must be averaged is highly variable, and depends on several factors, such as the skewness of the distribution, (to be continued)"
   ]
  }
 ],
 "metadata": {
  "kernelspec": {
   "display_name": "Python 3",
   "language": "python",
   "name": "python3"
  },
  "language_info": {
   "codemirror_mode": {
    "name": "ipython",
    "version": 3
   },
   "file_extension": ".py",
   "mimetype": "text/x-python",
   "name": "python",
   "nbconvert_exporter": "python",
   "pygments_lexer": "ipython3",
   "version": "3.8.5"
  }
 },
 "nbformat": 4,
 "nbformat_minor": 4
}
